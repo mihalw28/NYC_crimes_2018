{
  "cells": [
    {
      "metadata": {
        "_uuid": "0e121a6ac6a58ba5c22bc1394619dc9ae4bf6b52"
      },
      "cell_type": "markdown",
      "source": "Notebook created: 2018-01-10\nLast update: 2018-01-10\nVersion 1\n\nList of previous kernels relative to data set used in this kernel:\n1. First, introductory kernel - [NYC Crimes 2018 - data cleaning, part I](https://www.kaggle.com/mihalw28/nyc-crimes-2018-data-cleaning-part-i)\n2. Second - [NYC Crimes 2018 - Random Forest Regressor & NaNs](https://www.kaggle.com/mihalw28/nyc-crimes-2018-random-forest-regressor-nans)\n3. This one - [Fill NaNs using regression, part II](https://www.kaggle.com/mihalw28/fill-nans-with-ml)\n4. Last, mostly visualisations - [NYC crimes 2018 - visualistions](https://www.kaggle.com/mihalw28/nyc-crimes-2018-visualistions)"
    },
    {
      "metadata": {
        "_uuid": "f596c1a16b3a63a91e482e8313fe8697ba6e9a91"
      },
      "cell_type": "markdown",
      "source": "Short table of contents:\n1. [Imports](#1)\n2. ['SUSP_RACE':](#2)\n    * [Train models](#3)\n    * [Fine-tune](#4)\n    * [Evaluation](#5)\n3. ['SUSP_AGE_GROUP'](#6)\n    * [Train models](#7)\n    * [Fine-tune](#8)\n    * [Evaluation](#9)\n4. ['SUSP_SEX'](#10)\n    * [Train models](#11)\n    * [Fine-tune](#12)\n    * [Evaluation](#13)\n5. [Visual comparisons](#14)\n6. [Final toughts](#15)"
    },
    {
      "metadata": {
        "_uuid": "3d41a6cb5c96ef386a24a7114690cee0f35c44a7"
      },
      "cell_type": "markdown",
      "source": "This notebook is continuation of previous two. To understand the context I invite to read first and second relative to the same data set. In this kernel I try to improve method of filling NaN values which I have applied in [NYC Crimes 2018 - Random Forest Regressor & NaNs](https://www.kaggle.com/mihalw28/nyc-crimes-2018-random-forest-regressor-nans) notebook through apply functions to reduce wasting time. What is more, at the end of this notebook I present some comparisons between filling NaNs using random values and regression. "
    },
    {
      "metadata": {
        "_uuid": "c8e47b03acf7a9aa69af45c4b006052330b856d1"
      },
      "cell_type": "markdown",
      "source": "<a id=\"1\"></a> <br>\n# Imports"
    },
    {
      "metadata": {
        "_uuid": "8f2839f25d086af736a60e9eeb907d3b93b6e0e5",
        "_cell_guid": "b1076dfc-b9ad-4769-8c92-a6c4dae69d19",
        "trusted": true
      },
      "cell_type": "code",
      "source": "# Visualisations\nimport matplotlib.pyplot as plt \nimport matplotlib\n%matplotlib inline\nimport plotly\nimport plotly.offline as py\nfrom plotly.offline import download_plotlyjs, init_notebook_mode, plot, iplot\nimport plotly.graph_objs as go\nfrom plotly.tools import make_subplots\ninit_notebook_mode()\n\n# Warnings\nimport warnings\nwarnings.filterwarnings(action = 'ignore')\n\n# Data exploration\nimport pandas as pd\n\n# Numerical\nimport numpy as np\n\n# Random\nnp.random.seed(11)\n\n# Splitt and encode\nfrom sklearn.model_selection import StratifiedShuffleSplit\nfrom sklearn.preprocessing import OneHotEncoder\n\n# Make pipeline\nfrom sklearn.pipeline import Pipeline\nfrom sklearn.preprocessing import StandardScaler\nfrom sklearn.pipeline import FeatureUnion\n\n# Regression\nfrom sklearn.linear_model import LinearRegression\nfrom sklearn.metrics import mean_squared_error\nfrom sklearn.metrics import mean_absolute_error\nfrom sklearn.tree import DecisionTreeRegressor\nfrom sklearn.model_selection import cross_val_score\nfrom sklearn.ensemble import RandomForestRegressor\n\n# Grid Search\nfrom sklearn.model_selection import GridSearchCV\nfrom sklearn.model_selection import RandomizedSearchCV\nfrom scipy.stats import randint\n\n# Files in dataset\nimport os\nprint(os.listdir(\"../input\"))",
      "execution_count": null,
      "outputs": []
    },
    {
      "metadata": {
        "_cell_guid": "79c7e3d0-c299-4dcb-8224-4455121ee9b0",
        "_uuid": "d629ff2d2480ee46fbb7e2d37f6b5fab8052498a",
        "trusted": true,
        "_kg_hide-output": false,
        "_kg_hide-input": false
      },
      "cell_type": "code",
      "source": "# Load and inspect data\ncrimes_df = pd.read_csv(\"../input/crimes_NYC.csv\")\ncrimes_df.info()",
      "execution_count": null,
      "outputs": []
    },
    {
      "metadata": {
        "_uuid": "243fd3f9c05e870086c79390df4435eb10dce5f6"
      },
      "cell_type": "markdown",
      "source": "As you can see all columns in data frame have 109543 non-null values except 3. *SUSP_AGE_GROUP*, *SUSP_RACE*, *SUSP_SEX* with filled NaNs respectively *suspector_age_rand*, *suspector_race_rand* and *suspector_sex_rand* are placed at the end of the df. It is important to mention that already filled suspector columns are filled with random values. More info in previous [kernel](https://www.kaggle.com/mihalw28/nyc-crimes-2018-random-forest-regressor-nans).\n\nTo be precise, not all columns in data frame have appropriate values. If you want verificate it yourself, chek values in victim columns. However I didn't have reason to change those values yet. (There is a possibility I'll take care of it later.)"
    },
    {
      "metadata": {
        "_uuid": "01c03dfe4d1518d25d68c496614b4be82902de8d"
      },
      "cell_type": "markdown",
      "source": "<a id=\"2\"></a> <br>\n# SUSP_RACE"
    },
    {
      "metadata": {
        "trusted": true,
        "_uuid": "9b13e6c38860b3694541b2ecdf78eb2857df9633"
      },
      "cell_type": "code",
      "source": "# Make df with NaNs in target column (SUSP_RACE here) and return df without that column\ndef susp_n(column_name, condition):\n    print(\"Values in {}: \\n\".format(column_name), crimes_df[column_name].value_counts(dropna = False), sep = '')   # check if there any NaNs\n    crimes_df.loc[(condition), column_name] = np.nan # change 'WRONG' values to NaNs\n    susp_nan = crimes_df[crimes_df[column_name].isnull()] # df with NaNs only\n    susp_nan.drop(column_name, axis = 1)   # delete SUSP_RACE column\n    print(\"\\nValues in {} after changing: \\n\".format(column_name), susp_nan[column_name].value_counts(dropna = False), sep = '')   # check if there any NaNs\n    return susp_nan",
      "execution_count": null,
      "outputs": []
    },
    {
      "metadata": {
        "trusted": true,
        "_uuid": "9e08225adb64be3a8694f3bc00a69e6b9a272c67"
      },
      "cell_type": "code",
      "source": "# Select column and condition to change values\ncolumn_name = 'SUSP_RACE'\ncondition = crimes_df[column_name] == 'UNKNOWN'\nsn = susp_n(column_name, condition)",
      "execution_count": null,
      "outputs": []
    },
    {
      "metadata": {
        "trusted": true,
        "_uuid": "49cf742b58e414fdb1bc0ff82d4e6f08a98824fd"
      },
      "cell_type": "code",
      "source": "# Split data into train and test sets using StratifiedShuffleSplit\ndef for_split(column_name):\n    df_non_nan = crimes_df.dropna(subset = [column_name], axis = 0).reset_index() #reset_index() is crucial here\n    split = StratifiedShuffleSplit(n_splits = 1, test_size = 0.2, random_state = 11)\n    for train_index, test_index in split.split(df_non_nan, df_non_nan[column_name]):\n        strat_train_set = df_non_nan.loc[train_index]\n        strat_test_set = df_non_nan.loc[test_index]\n    return strat_train_set, strat_test_set",
      "execution_count": null,
      "outputs": []
    },
    {
      "metadata": {
        "_kg_hide-output": false,
        "trusted": true,
        "_uuid": "0d0543756a0d1b8675d4d1b6439c691f66b7eccc"
      },
      "cell_type": "code",
      "source": "# Execute for_split()\nstrat_train_set, strat_test_set = for_split(column_name)",
      "execution_count": null,
      "outputs": []
    },
    {
      "metadata": {
        "trusted": true,
        "_uuid": "922c5e84ec7beed9f818631d4febecd94cdf1d9d"
      },
      "cell_type": "code",
      "source": "# Make train df and extract target labels\ndef train_and_drop(column_name, strat_train_set):\n    susp_labels = strat_train_set[column_name].copy().to_frame()\n    crimes_df = strat_train_set.drop(column_name, axis = 1)\n    return susp_labels, crimes_df",
      "execution_count": null,
      "outputs": []
    },
    {
      "metadata": {
        "trusted": true,
        "_uuid": "7a0f428a73ec631157c70d4c8e87fc3b700fd671"
      },
      "cell_type": "code",
      "source": "# Execute train_and_drop\nsusp_labels, crimes_df = train_and_drop(column_name, strat_train_set)",
      "execution_count": null,
      "outputs": []
    },
    {
      "metadata": {
        "trusted": true,
        "_uuid": "ebabe920de6a19a62e876420911521b0e1888351"
      },
      "cell_type": "code",
      "source": "# Select categorical and numerical values to feed pipeline\ndef select(selected_list):\n    crimes_df_num = crimes_df.select_dtypes(include = [np.number]).drop('index', axis = 1)\n    crimes_df_cat = crimes_df[selected_list]\n    return crimes_df_num, crimes_df_cat",
      "execution_count": null,
      "outputs": []
    },
    {
      "metadata": {
        "trusted": true,
        "_uuid": "22882a69419618eca65efbb03a0e1ad0e4738509"
      },
      "cell_type": "code",
      "source": "selected_list = ['BORO_NM'] # list of categorical values\ncrimes_df_num, crimes_df_cat = select(selected_list)",
      "execution_count": null,
      "outputs": []
    },
    {
      "metadata": {
        "trusted": true,
        "_uuid": "e91be647383916dafac5a040f3ab7f5fcc5b53a6"
      },
      "cell_type": "code",
      "source": "# Encode categorical labels\ndef one_hot_encoder(labels):\n    one_hot_encoder = OneHotEncoder(sparse = False)\n    crimes_labels_1hot = one_hot_encoder.fit_transform(labels) # for scikit-learn versions 19.x this line won`t work, because susp_race_labels are not int type\n    return crimes_labels_1hot",
      "execution_count": null,
      "outputs": []
    },
    {
      "metadata": {
        "trusted": true,
        "_uuid": "1d451014b594cd25603459f56ffd95a23be9bc1c"
      },
      "cell_type": "code",
      "source": "# Execute encoding\ncrimes_labels_1hot = one_hot_encoder(susp_labels)\nprint(crimes_labels_1hot)",
      "execution_count": null,
      "outputs": []
    },
    {
      "metadata": {
        "trusted": true,
        "_uuid": "dcf2f1f6df1ba0ffd0634f186818385e348191d1"
      },
      "cell_type": "code",
      "source": "# Write a selector\nfrom sklearn.base import BaseEstimator, TransformerMixin\n\nclass DataFrameSelector(BaseEstimator, TransformerMixin):\n    def __init__(self, attribute_names):\n        self.attribute_names = attribute_names\n    def fit(self, X, y = None):\n        return self\n    def transform(self, X):\n        return X[self.attribute_names].values",
      "execution_count": null,
      "outputs": []
    },
    {
      "metadata": {
        "trusted": true,
        "_uuid": "2faf5f1a71e0a4a507fa9601862843e8c2d36762"
      },
      "cell_type": "code",
      "source": "# One pipeline for cat and num values\ndef pipeline(df):\n    num_attribs = list(crimes_df_num)\n    cat_attribs = list(crimes_df_cat)\n    \n    num_pipeline = Pipeline([\n        ('selector', DataFrameSelector(num_attribs)),\n        #('imputer', SimpleImputer(strategy=\"median\")), SimpleImputer won't work here, all num_attribs are already completed and don't have any NaN\n        ('std_scaler', StandardScaler()),\n    ])\n    cat_pipeline = Pipeline([\n        ('selector', DataFrameSelector(cat_attribs)),\n        ('cat_encoder', OneHotEncoder(sparse = False)), \n    ])\n    \n    # Create one pipeline for the whole process\n    full_pipeline = FeatureUnion(transformer_list = [\n        ('num_pipeline', num_pipeline),\n        ('cat_pipeline', cat_pipeline),\n    ])\n    \n    # Encode values using full_pipeline\n    crimes_prepared = full_pipeline.fit_transform(crimes_df)\n    \n    return crimes_prepared, num_pipeline, cat_pipeline, num_attribs, full_pipeline",
      "execution_count": null,
      "outputs": []
    },
    {
      "metadata": {
        "trusted": true,
        "_uuid": "78d7d0fd231395b100466abf55c647d8fe5397c8"
      },
      "cell_type": "code",
      "source": "# Execute pipeline()\ncrimes_prepared, num_pipeline, cat_pipeline, num_attribs, full_pipeline = pipeline(crimes_df) # Is it ok, to load all these values from function?",
      "execution_count": null,
      "outputs": []
    },
    {
      "metadata": {
        "_uuid": "932f263e0b5aa3a3b4396ca726da2e2b24994d52"
      },
      "cell_type": "markdown",
      "source": "<a id=\"3\"></a> <br>\n## Train models"
    },
    {
      "metadata": {
        "_uuid": "ac845a024751c9e589c72621f15a2814175862f8"
      },
      "cell_type": "markdown",
      "source": "### Linear Regression"
    },
    {
      "metadata": {
        "trusted": true,
        "_uuid": "e1c011cc9507c29a9142ca9148a13a9110652550"
      },
      "cell_type": "code",
      "source": "# Compute linear regression\ndef linear_reg(crimes_prepared, crimes_labels_1hot):\n    lin_reg = LinearRegression()\n    lin_reg.fit(crimes_prepared, crimes_labels_1hot)\n    \n    #compute with cross_cal_score\n    lin_scores = cross_val_score(lin_reg, crimes_prepared, crimes_labels_1hot, scoring = 'neg_mean_squared_error', cv = 10)\n    lin_rmse_scores = np.sqrt(-lin_scores)\n    return lin_rmse_scores",
      "execution_count": null,
      "outputs": []
    },
    {
      "metadata": {
        "trusted": true,
        "_uuid": "ab87bf9c159884e4680ada7a6d18152033c939ea"
      },
      "cell_type": "code",
      "source": "# Execute lin_reg()\nlin_rmse_scores = linear_reg(crimes_prepared, crimes_labels_1hot)",
      "execution_count": null,
      "outputs": []
    },
    {
      "metadata": {
        "_uuid": "6e293e796b877a2785bbfa6fac75a3b3aa8eb3b8"
      },
      "cell_type": "markdown",
      "source": "### Decision Tree\n"
    },
    {
      "metadata": {
        "trusted": true,
        "_uuid": "9fc44f7970ad83da8108e7ff4ef3934860bc3dcc"
      },
      "cell_type": "code",
      "source": "# Decission tree regression\ndef decision_t(crimes_prepared, crimes_labels_1hot):\n    tree_reg = DecisionTreeRegressor(random_state=11)\n    tree_reg.fit(crimes_prepared, crimes_labels_1hot)\n    \n    # compute with cross_val_score\n    scores = cross_val_score(tree_reg, crimes_prepared, crimes_labels_1hot, scoring = 'neg_mean_squared_error', cv = 10)\n    tree_rmse_scores = np.sqrt(-scores)\n    \n    return tree_rmse_scores",
      "execution_count": null,
      "outputs": []
    },
    {
      "metadata": {
        "trusted": true,
        "_uuid": "2b3834a0fda30cfd9316a95665c507445cf91921"
      },
      "cell_type": "code",
      "source": "tree_rmse_scores = decision_t(crimes_prepared, crimes_labels_1hot)",
      "execution_count": null,
      "outputs": []
    },
    {
      "metadata": {
        "trusted": true,
        "_uuid": "be4d896a787d054ab780c3ff17546b82c6ef0a00"
      },
      "cell_type": "code",
      "source": "# Display all scores\ndef display_scores(scores):\n    print(\"Scores:\", scores)\n    print(\"Mean:\", scores.mean())\n    print(\"Standard deviation:\", scores.std())",
      "execution_count": null,
      "outputs": []
    },
    {
      "metadata": {
        "trusted": true,
        "_uuid": "92f7a5371dc71b0688bd8d167ac80b7f0a78fb92"
      },
      "cell_type": "code",
      "source": "# Execute display_scores(scores) function\nprint(\"Linear Regression\")\ndisplay_scores(lin_rmse_scores)\nprint(\"\\nDecision Tree\")\ndisplay_scores(tree_rmse_scores)",
      "execution_count": null,
      "outputs": []
    },
    {
      "metadata": {
        "_uuid": "cfac1888b0a8de88b82ee7e6121be2bf40696547"
      },
      "cell_type": "markdown",
      "source": "### Random Forest"
    },
    {
      "metadata": {
        "trusted": true,
        "_uuid": "de40ea9d6cad6b3a3e644599917109e0388db62b"
      },
      "cell_type": "code",
      "source": "# Calculate rf score\ndef random_f(crimes_prepared, crimes_labels_1hot):\n    forest_reg = RandomForestRegressor(random_state=11)\n    forest_reg.fit(crimes_prepared, crimes_labels_1hot)\n    \n    # compute with cross_val_score\n    scores = cross_val_score(forest_reg, crimes_prepared, crimes_labels_1hot, scoring = 'neg_mean_squared_error', cv = 10)\n    forest_rmse_scores = np.sqrt(-scores)\n    return forest_rmse_scores",
      "execution_count": null,
      "outputs": []
    },
    {
      "metadata": {
        "trusted": true,
        "_uuid": "d5aa062ee8cf069d441bc46954eabf1660f5e3a6"
      },
      "cell_type": "code",
      "source": "forest_rmse_scores = random_f(crimes_prepared, crimes_labels_1hot)",
      "execution_count": null,
      "outputs": []
    },
    {
      "metadata": {
        "trusted": true,
        "_uuid": "d44be9f63a72c1f2dbcdce50f32124e207801a1d"
      },
      "cell_type": "code",
      "source": "# Execute display_scores(scores) function\nprint(\"Random forest\")\ndisplay_scores(forest_rmse_scores)",
      "execution_count": null,
      "outputs": []
    },
    {
      "metadata": {
        "_uuid": "8c964c542d654317cb3fe616e3d5e2faf46be2d7"
      },
      "cell_type": "markdown",
      "source": "<a id=\"4\"></a> <br>\n## Fine-tune model"
    },
    {
      "metadata": {
        "_uuid": "24c0713b836ffea0c4a6edea0d2e8f44a64fb408"
      },
      "cell_type": "markdown",
      "source": "### Grid Search"
    },
    {
      "metadata": {
        "trusted": true,
        "_uuid": "3ca9ccd5fc6fa07b82b05d52b30680e9c403ffc5"
      },
      "cell_type": "code",
      "source": "# Find best params using Grid Search\ndef grid():\n    param_grid = [\n        {'n_estimators': [3, 10, 30], 'max_features': [3, 5, 7, 9]},\n        {'bootstrap': [False], 'n_estimators': [3, 10], 'max_features': [2, 3, 4]},\n    ]\n    forest_reg = RandomForestRegressor(random_state = 11)\n    grid_search = GridSearchCV(forest_reg, param_grid, cv = 5, scoring = 'neg_mean_squared_error', \n                          return_train_score = True)\n    grid_search.fit(crimes_prepared, crimes_labels_1hot)\n    return grid_search",
      "execution_count": null,
      "outputs": []
    },
    {
      "metadata": {
        "trusted": true,
        "_uuid": "7bc5da199dedb9305b96fef1a67f0126824ec1d8"
      },
      "cell_type": "code",
      "source": "# Execute grid() function\ngrid_search = grid()",
      "execution_count": null,
      "outputs": []
    },
    {
      "metadata": {
        "trusted": true,
        "_uuid": "b31b3043fc71d5f2895810616095d97ab8cd0400"
      },
      "cell_type": "code",
      "source": "print(\"Grid search best parameters: \", grid_search.best_params_)\nprint(\"Grid search best estimator: \", grid_search.best_estimator_)",
      "execution_count": null,
      "outputs": []
    },
    {
      "metadata": {
        "trusted": true,
        "_uuid": "e4bc0dcb7d58c1a901515a308bef724a6fbfbb4d"
      },
      "cell_type": "code",
      "source": "# Evaluation scores\nprint(\"Evaluation scores\")\ncvres = grid_search.cv_results_\nfor mean_score, params in zip(cvres['mean_test_score'], cvres['params']):\n    print(np.sqrt(-mean_score), params)",
      "execution_count": null,
      "outputs": []
    },
    {
      "metadata": {
        "_uuid": "2895a0689b2b7e89675870b2881824bcd7da0e9e"
      },
      "cell_type": "markdown",
      "source": "### Randomized search"
    },
    {
      "metadata": {
        "trusted": true,
        "_uuid": "55f562bd4096275faab343f348715c4264d126d2"
      },
      "cell_type": "code",
      "source": "# Find best params using Randomized Search\ndef random_search():\n    param_distribs = {\n        'n_estimators': randint(low = 1, high = 200),\n        'max_features': randint(low = 3, high = 9),\n    }\n    forest_reg = RandomForestRegressor(random_state = 11)\n    rnd_search = RandomizedSearchCV(forest_reg, param_distributions = param_distribs,\n                                    n_iter = 10, cv = 5, scoring = 'neg_mean_squared_error', random_state = 11)\n    rnd_search.fit(crimes_prepared, crimes_labels_1hot)\n\n    return rnd_search",
      "execution_count": null,
      "outputs": []
    },
    {
      "metadata": {
        "trusted": true,
        "_uuid": "04e71d0c2bd898b8753f45a2b63cf3a270580c3c"
      },
      "cell_type": "code",
      "source": "# Execute random_search()\nrnd_search = random_search()",
      "execution_count": null,
      "outputs": []
    },
    {
      "metadata": {
        "trusted": true,
        "_uuid": "cd5bc895767f3e7d13daf5c1f28a68af379333e8"
      },
      "cell_type": "code",
      "source": "print(\"Best parameters: {}\".format(rnd_search.best_params_))\nprint(\"Best random search score: {}\".format(np.sqrt(-rnd_search.best_score_)))",
      "execution_count": null,
      "outputs": []
    },
    {
      "metadata": {
        "trusted": true,
        "_uuid": "6f36db343a5813a17b8e2e329c7610f0f10570b4"
      },
      "cell_type": "code",
      "source": "# find feature importance\ndef important_feat():\n    feature_importances = grid_search.best_estimator_.feature_importances_\n    # Chcek most importanct attributes\n    cat_encoder = cat_pipeline.named_steps['cat_encoder']\n    cat_one_hot_attribs = list(cat_encoder.categories_[0])\n    attributes = num_attribs + cat_one_hot_attribs\n    return sorted(zip(feature_importances, attributes), reverse = True)",
      "execution_count": null,
      "outputs": []
    },
    {
      "metadata": {
        "trusted": true,
        "_uuid": "7fb5143090d68399c7ba31c1f70fb0dfdd9c0981"
      },
      "cell_type": "code",
      "source": "# Execute important_feat()\nfeature_importances = important_feat()\nprint(feature_importances)",
      "execution_count": null,
      "outputs": []
    },
    {
      "metadata": {
        "trusted": true,
        "_uuid": "13038bd55c7cc170453833742e0fdb40cf50a7e8"
      },
      "cell_type": "markdown",
      "source": "<a id=\"5\"></a> <br>\n## Evaluation"
    },
    {
      "metadata": {
        "trusted": true,
        "_uuid": "aed9974368b26032afc7883f2a31f9004c9ec74c"
      },
      "cell_type": "code",
      "source": "# Evaluate final score on test set\ndef final_score_eval(column_name):\n    final_model = grid_search.best_estimator_\n    \n    X_test = strat_test_set.drop(column_name, axis = 1)\n    y_test = strat_test_set[column_name].copy().to_frame()\n    \n    # Second step - OneHotEncoder, encoding integers to sparse matrix as an output, if (sparse = False) array as an output\n    cat_encoder = OneHotEncoder(sparse = False)\n    y_test_encoded_ohe = cat_encoder.fit_transform(y_test)\n    \n    X_test_prepared = full_pipeline.transform(X_test)\n    final_predictions = final_model.predict(X_test_prepared)\n    \n    final_mse = mean_squared_error(y_test_encoded_ohe, final_predictions)\n    final_rmse = np.sqrt(final_mse) \n    print(\"Final score: \", final_rmse)\n    return final_rmse, final_model, cat_encoder",
      "execution_count": null,
      "outputs": []
    },
    {
      "metadata": {
        "trusted": true,
        "_uuid": "2eca3b252ea4420a76e61239e9adb2eb5327a5ab"
      },
      "cell_type": "code",
      "source": "# Execute\nfinal_rmse, final_model, cat_encoder= final_score_eval(column_name)",
      "execution_count": null,
      "outputs": []
    },
    {
      "metadata": {
        "_uuid": "c10374f4246dcff83380259c10e1e89be5c08e8d"
      },
      "cell_type": "markdown",
      "source": "Frankly, it isn't the best performance I've ever seen, and it's slightly lower than best training score. Is it kind of underfitting?"
    },
    {
      "metadata": {
        "trusted": true,
        "_uuid": "14bf0c2c388f64a705c95929e100210f9d25b0e3"
      },
      "cell_type": "code",
      "source": " def find_nans(sn):\n    X_to_find = full_pipeline.transform(sn)\n    NaNs_found = final_model.predict(X_to_find)\n    return NaNs_found",
      "execution_count": null,
      "outputs": []
    },
    {
      "metadata": {
        "trusted": true,
        "_uuid": "c8002f9de3735f2c148f43bc8937f83fe2cafaa8"
      },
      "cell_type": "code",
      "source": "# Execute find_nans()\nNaNs_found = find_nans(sn)\nNaNs_found[:5]",
      "execution_count": null,
      "outputs": []
    },
    {
      "metadata": {
        "trusted": true,
        "_uuid": "847a565376819e8008dcfd45ea4b8029d8a12a14"
      },
      "cell_type": "code",
      "source": "# Decode values, encoded with OneHotEncoder\none_hot_decode = cat_encoder.inverse_transform(NaNs_found)\none_hot_decode[:5]",
      "execution_count": null,
      "outputs": []
    },
    {
      "metadata": {
        "trusted": true,
        "_uuid": "68c9bef77ee13925f480f0d3bdf9234fea16c239"
      },
      "cell_type": "code",
      "source": "# Make a df with decoded values\ndef nans_df(column_name):\n    found = pd.DataFrame(one_hot_decode, columns = [column_name], index = sn.index)\n    return found",
      "execution_count": null,
      "outputs": []
    },
    {
      "metadata": {
        "trusted": true,
        "_uuid": "208a0c03c7dc98d85001f6028b8481f0a14a63a7"
      },
      "cell_type": "code",
      "source": "# Execute nans_df \nfound_race = nans_df(column_name)\nfound_race[:5]",
      "execution_count": null,
      "outputs": []
    },
    {
      "metadata": {
        "trusted": true,
        "_uuid": "9fd2a3de6e246e723b3468bfdf676133346383f8"
      },
      "cell_type": "code",
      "source": "# Fill NaNs in raw data frame\ndef fill_nans(col_df, data_frame):\n    for index in col_df[column_name].index, data_frame[column_name].index:\n        data_frame[column_name].loc[data_frame[column_name].isnull()] = col_df[column_name]\n    return data_frame",
      "execution_count": null,
      "outputs": []
    },
    {
      "metadata": {
        "trusted": true,
        "_uuid": "9c94621628ef36bb549dc55f5f161d08b07122d0"
      },
      "cell_type": "code",
      "source": "# Make a room for new values in raw dataframe\ndef make_room(df, raw_condition):\n    df.loc[raw_condition, column_name] = np.nan\n    return df",
      "execution_count": null,
      "outputs": []
    },
    {
      "metadata": {
        "trusted": true,
        "_uuid": "1e32142e0576df89b240bcc367a3e7761edf6441"
      },
      "cell_type": "code",
      "source": "# Read original data frame\ncrimes_NYC_raw = pd.read_csv(\"../input/crimes_NYC.csv\")\ncrimes_NYC_raw[column_name].value_counts(dropna = False)\nraw_condition = crimes_NYC_raw[column_name] == 'UNKNOWN'\ncrimes_NYC = make_room(crimes_NYC_raw, raw_condition)\n",
      "execution_count": null,
      "outputs": []
    },
    {
      "metadata": {
        "trusted": true,
        "_uuid": "ffa371f799c36cf8af77d8f621039fb3322a7ae2"
      },
      "cell_type": "code",
      "source": "fill_nans(found_race, crimes_NYC)",
      "execution_count": null,
      "outputs": []
    },
    {
      "metadata": {
        "trusted": true,
        "_uuid": "1989a5a5cad8780572226a3b08f9dd4d33e3d898"
      },
      "cell_type": "code",
      "source": "# Uncomment for sanity check\ncrimes_NYC.info()\ncrimes_NYC['SUSP_RACE'].value_counts(dropna = False)",
      "execution_count": null,
      "outputs": []
    },
    {
      "metadata": {
        "_uuid": "6a8671e86800550f36023aafd29f70858c510f62"
      },
      "cell_type": "markdown",
      "source": "As you could see my models are pretty simple. I selected basic regression models and followed them to get scores. I  won't intend find new models' parameters and try to obtain better results in this project. Or maybe if I'll find while. :)"
    },
    {
      "metadata": {
        "trusted": true,
        "_uuid": "af144232a203b79fc015143167a6699bd5d041ad"
      },
      "cell_type": "markdown",
      "source": "<a id=\"6\"></a> <br>\n# SUSP_AGE_GROUP"
    },
    {
      "metadata": {
        "trusted": true,
        "_uuid": "db5bd8e181e03580dbd99100243c042182c8f2b3"
      },
      "cell_type": "code",
      "source": "# Copy crimes_NYC df\ncrimes_df = crimes_NYC.copy()",
      "execution_count": null,
      "outputs": []
    },
    {
      "metadata": {
        "trusted": true,
        "_uuid": "5a64c16679f4c44a940ac836b433b45a4007c4f3"
      },
      "cell_type": "code",
      "source": "# Start values for 'SUSP_AGE_GROUP' column\ncolumn_name = 'SUSP_AGE_GROUP'\ncondition = ((crimes_df[column_name] != '25-44') & \n               (crimes_df[column_name] != '18-24') &\n               (crimes_df[column_name] != '45-64') &\n               (crimes_df[column_name] != '65+') &\n               (crimes_df[column_name] != '<18'))",
      "execution_count": null,
      "outputs": []
    },
    {
      "metadata": {
        "trusted": true,
        "_uuid": "fa81dbc3be6ffff63b2c3bdbd06a6a8d480b063d"
      },
      "cell_type": "code",
      "source": "sn = susp_n(column_name, condition)",
      "execution_count": null,
      "outputs": []
    },
    {
      "metadata": {
        "trusted": true,
        "_uuid": "d3b6aa33689c770d0ee4439e7df89e61916028fb"
      },
      "cell_type": "code",
      "source": "sn['SUSP_AGE_GROUP'].value_counts(dropna = False)",
      "execution_count": null,
      "outputs": []
    },
    {
      "metadata": {
        "trusted": true,
        "_uuid": "9e76a029ab9194110ab31439990141c5573ccdb2"
      },
      "cell_type": "code",
      "source": "strat_train_set, strat_test_set = for_split(column_name)",
      "execution_count": null,
      "outputs": []
    },
    {
      "metadata": {
        "trusted": true,
        "_uuid": "c3553b898f755c90f8dc2e4ec432021aa2a27311"
      },
      "cell_type": "code",
      "source": "susp_labels, crimes_df = train_and_drop(column_name, strat_train_set)",
      "execution_count": null,
      "outputs": []
    },
    {
      "metadata": {
        "trusted": true,
        "_uuid": "e1b0483118ba144b0abb87a623a70725166fc4de"
      },
      "cell_type": "code",
      "source": "selected_list = ['BORO_NM', 'SUSP_RACE']\ncrimes_df_num, crimes_df_cat = select(selected_list)",
      "execution_count": null,
      "outputs": []
    },
    {
      "metadata": {
        "trusted": true,
        "_uuid": "3ad15ef31bc6dc0b03f7037d275766ac5350969e"
      },
      "cell_type": "code",
      "source": "crimes_labels_1hot = one_hot_encoder(susp_labels)\nprint(crimes_labels_1hot)",
      "execution_count": null,
      "outputs": []
    },
    {
      "metadata": {
        "trusted": true,
        "_uuid": "e3a246dd92764a88dd48f59faa8805338c8edb87"
      },
      "cell_type": "code",
      "source": "crimes_prepared, num_pipeline, cat_pipeline, num_attribs, full_pipeline = pipeline(crimes_df)",
      "execution_count": null,
      "outputs": []
    },
    {
      "metadata": {
        "_uuid": "204c3c44e00ecb7a0e0d9d9f7b37430b2b07c023"
      },
      "cell_type": "markdown",
      "source": "<a id=\"7\"></a> <br>\n## Train models"
    },
    {
      "metadata": {
        "_uuid": "94b2f7e9817167a58c6021067856e0f29ff06fb8"
      },
      "cell_type": "markdown",
      "source": "### Linear Regression"
    },
    {
      "metadata": {
        "trusted": true,
        "_uuid": "e451401163226e826040937a60b03644f1a9386e"
      },
      "cell_type": "code",
      "source": "lin_rmse_scores = linear_reg(crimes_prepared, crimes_labels_1hot)",
      "execution_count": null,
      "outputs": []
    },
    {
      "metadata": {
        "_uuid": "18cb600127a306036f9b798a1e3ea0ad879f12de"
      },
      "cell_type": "markdown",
      "source": "### Decision Tree"
    },
    {
      "metadata": {
        "trusted": true,
        "_uuid": "9cd996f03c87482fda270d68316c763166307ac0"
      },
      "cell_type": "code",
      "source": "tree_rmse_scores = decision_t(crimes_prepared, crimes_labels_1hot)",
      "execution_count": null,
      "outputs": []
    },
    {
      "metadata": {
        "trusted": true,
        "_uuid": "2317f90c9d5936683dad0492aab9f235791d67fc",
        "scrolled": true
      },
      "cell_type": "code",
      "source": "# Execute display_scores(scores) function\nprint(\"Linear Regression\")\ndisplay_scores(lin_rmse_scores)\nprint(\"\\nDecision Tree\")\ndisplay_scores(tree_rmse_scores)",
      "execution_count": null,
      "outputs": []
    },
    {
      "metadata": {
        "_uuid": "c1c29566e2e3dd92b03f38bee481f4b5f71f8d0c"
      },
      "cell_type": "markdown",
      "source": "### Random Forest"
    },
    {
      "metadata": {
        "trusted": true,
        "_uuid": "563dd609a684442b2ed0112924fc990bb3407c24"
      },
      "cell_type": "code",
      "source": "forest_rmse_scores = random_f(crimes_prepared, crimes_labels_1hot)",
      "execution_count": null,
      "outputs": []
    },
    {
      "metadata": {
        "trusted": true,
        "_uuid": "cd57af24f96aabd176fd620854d901c3537c8901"
      },
      "cell_type": "code",
      "source": "# Execute display_scores(scores) function\nprint(\"Random forest\")\ndisplay_scores(forest_rmse_scores)",
      "execution_count": null,
      "outputs": []
    },
    {
      "metadata": {
        "_uuid": "be1ea384dea2823f0bb64ddff486ab8b195457f3"
      },
      "cell_type": "markdown",
      "source": "<a id=\"8\"></a> <br>\n## Fine-tune model"
    },
    {
      "metadata": {
        "_uuid": "20db84e688d9f6c9a08647425e3b3cb1bbb3caae"
      },
      "cell_type": "markdown",
      "source": "### Grid search"
    },
    {
      "metadata": {
        "trusted": true,
        "_uuid": "56ebcd2bf9b59d2d9f732a8d55059ca072f96caf"
      },
      "cell_type": "code",
      "source": "grid_search = grid()",
      "execution_count": null,
      "outputs": []
    },
    {
      "metadata": {
        "trusted": true,
        "_uuid": "ff7a01f7bea2041021e9de0b7c4c14e38726f42d",
        "scrolled": true
      },
      "cell_type": "code",
      "source": "print(\"Grid search best parameters: \", grid_search.best_params_)\nprint(\"Grid search best estimator: \", grid_search.best_estimator_)",
      "execution_count": null,
      "outputs": []
    },
    {
      "metadata": {
        "trusted": true,
        "_uuid": "462b2446a9a35d1864b4f1ada42c0c63076aa731"
      },
      "cell_type": "code",
      "source": "# Evaluation scores\nprint(\"Evaluation scores\")\ncvres = grid_search.cv_results_\nfor mean_score, params in zip(cvres['mean_test_score'], cvres['params']):\n    print(np.sqrt(-mean_score), params)",
      "execution_count": null,
      "outputs": []
    },
    {
      "metadata": {
        "_uuid": "cc564f2e619f7756963bc2d371078444a3ac9531"
      },
      "cell_type": "markdown",
      "source": "### Randomized search"
    },
    {
      "metadata": {
        "trusted": true,
        "_uuid": "b1d54bc4647eda332adacb33ebdd462857e39222"
      },
      "cell_type": "code",
      "source": "rnd_search = random_search()",
      "execution_count": null,
      "outputs": []
    },
    {
      "metadata": {
        "trusted": true,
        "_uuid": "a4e186ec41b1514532737bbfabed336a896d80eb"
      },
      "cell_type": "code",
      "source": "print(\"Best parameters: {}\".format(rnd_search.best_params_))\nprint(\"Best random search score: {}\".format(np.sqrt(-rnd_search.best_score_)))",
      "execution_count": null,
      "outputs": []
    },
    {
      "metadata": {
        "trusted": true,
        "_uuid": "868eb04ea2d940e82a334f197dbff3114baa91e7"
      },
      "cell_type": "code",
      "source": "feature_importances = important_feat()\nprint(feature_importances)",
      "execution_count": null,
      "outputs": []
    },
    {
      "metadata": {
        "_uuid": "459b877bcc8a4211d72878783d63fe2d8ec1615a"
      },
      "cell_type": "markdown",
      "source": "<a id=\"9\"></a> <br>\n## Evaluation"
    },
    {
      "metadata": {
        "trusted": true,
        "_uuid": "e01db5476e89f1994c6c75ba03414cae28fe5117"
      },
      "cell_type": "code",
      "source": "final_rmse, final_model, cat_encoder= final_score_eval(column_name)",
      "execution_count": null,
      "outputs": []
    },
    {
      "metadata": {
        "trusted": true,
        "_uuid": "74e7bc26bb35fa039914565889bc879cdec18e95"
      },
      "cell_type": "code",
      "source": "NaNs_found = find_nans(sn)\nNaNs_found[:5]",
      "execution_count": null,
      "outputs": []
    },
    {
      "metadata": {
        "trusted": true,
        "_uuid": "993f6c21dbf9f93f91be795bbbe45a8006b5f238"
      },
      "cell_type": "code",
      "source": "# Decode values, encoded with OneHoTEncoder\none_hot_decode = cat_encoder.inverse_transform(NaNs_found)\none_hot_decode[:5]",
      "execution_count": null,
      "outputs": []
    },
    {
      "metadata": {
        "trusted": true,
        "_uuid": "722382cb6d38ba6bf98bc11ba825406b66021ee1"
      },
      "cell_type": "code",
      "source": "found_age = nans_df(column_name)\nfound_age[:5]",
      "execution_count": null,
      "outputs": []
    },
    {
      "metadata": {
        "trusted": true,
        "_uuid": "8bd09a282d7c6cd4fe21922786bdf2fef1ce936b"
      },
      "cell_type": "code",
      "source": "# Read original data frame\n#crimes_NYC = pd.read_csv(\"../input/nyc-crimes-2018-random-forest-regressor-nans/crimes_NYC.csv\")\ncrimes_NYC[column_name].value_counts(dropna = False)\n\nraw_condition = ((crimes_NYC[column_name] != '25-44') & \n               (crimes_NYC[column_name] != '18-24') &\n               (crimes_NYC[column_name] != '45-64') &\n               (crimes_NYC[column_name] != '65+') &\n               (crimes_NYC[column_name] != '<18'))\n\ncrimes_NYC = make_room(crimes_NYC, raw_condition)\n\nfill_nans(found_age, crimes_NYC)",
      "execution_count": null,
      "outputs": []
    },
    {
      "metadata": {
        "trusted": true,
        "_uuid": "ec4285ab8faaf0d7936954552e3abf8945acbdbe"
      },
      "cell_type": "code",
      "source": "crimes_NYC.info()",
      "execution_count": null,
      "outputs": []
    },
    {
      "metadata": {
        "_uuid": "bc65e9fc982dee2374f5031a3ebb87e35f7ca216"
      },
      "cell_type": "markdown",
      "source": "<a id=\"10\"></a> <br>\n# SUSP_SEX"
    },
    {
      "metadata": {
        "trusted": true,
        "_uuid": "212633889530899ef583a869d5c7e0053cc577a6"
      },
      "cell_type": "code",
      "source": "# copy crimes_NYC df\ncrimes_df = crimes_NYC.copy()",
      "execution_count": null,
      "outputs": []
    },
    {
      "metadata": {
        "trusted": true,
        "_uuid": "78c0614e690f218cec134ce15d711c1dbd7e5191"
      },
      "cell_type": "code",
      "source": "# Start values for 'SUSP_SEX'\ncolumn_name = 'SUSP_SEX'\ncondition = ((crimes_df[column_name] != 'F') & \n              (crimes_df[column_name] != 'M'))",
      "execution_count": null,
      "outputs": []
    },
    {
      "metadata": {
        "trusted": true,
        "_uuid": "61325d8efe2a7c016f21797692d1e017c421ed2b"
      },
      "cell_type": "code",
      "source": "sn = susp_n(column_name, condition)",
      "execution_count": null,
      "outputs": []
    },
    {
      "metadata": {
        "trusted": true,
        "_uuid": "6557b6c03f1781d8990529d5e7eb7a917bcc51eb"
      },
      "cell_type": "code",
      "source": "sn['SUSP_SEX'].value_counts(dropna=False)",
      "execution_count": null,
      "outputs": []
    },
    {
      "metadata": {
        "trusted": true,
        "_uuid": "2841ca8bfc4fe2c73bc618c0e062dd149da4db3a"
      },
      "cell_type": "code",
      "source": "strat_train_set, strat_test_set = for_split(column_name)",
      "execution_count": null,
      "outputs": []
    },
    {
      "metadata": {
        "trusted": true,
        "_uuid": "cc4c03b00f904496adc56cd0c1f59e8506604981"
      },
      "cell_type": "code",
      "source": "susp_labels, crimes_df = train_and_drop(column_name, strat_train_set)",
      "execution_count": null,
      "outputs": []
    },
    {
      "metadata": {
        "trusted": true,
        "_uuid": "0e6a7a62fa0deacd8dec1dbec969ebfd874fd44d"
      },
      "cell_type": "code",
      "source": "selected_list = ['BORO_NM', 'SUSP_RACE', 'SUSP_AGE_GROUP']\ncrimes_df_num, crimes_df_cat = select(selected_list)",
      "execution_count": null,
      "outputs": []
    },
    {
      "metadata": {
        "trusted": true,
        "_uuid": "f3d939dd3085e8d5bddacfe2a35c11a8d399d6e2"
      },
      "cell_type": "code",
      "source": "crimes_labels_1hot = one_hot_encoder(susp_labels)\nprint(crimes_labels_1hot)",
      "execution_count": null,
      "outputs": []
    },
    {
      "metadata": {
        "trusted": true,
        "_uuid": "8f816775e9b42d72e65001722569c259a675e44b"
      },
      "cell_type": "code",
      "source": "crimes_prepared, num_pipeline, cat_pipeline, num_attribs, full_pipeline = pipeline(crimes_df)",
      "execution_count": null,
      "outputs": []
    },
    {
      "metadata": {
        "_uuid": "5d3d70c69cc3d4d47a89f92debab15dd87d7ca92"
      },
      "cell_type": "markdown",
      "source": "<a id=\"11\"></a> <br>\n## Train Models"
    },
    {
      "metadata": {
        "_uuid": "ada8140cf61012b0de910a404a8530cd09821e15"
      },
      "cell_type": "markdown",
      "source": "### Liear Regression"
    },
    {
      "metadata": {
        "trusted": true,
        "_uuid": "a6666299490b67a31e155c46050cafae40a9f351"
      },
      "cell_type": "code",
      "source": "lin_rmse_scores = linear_reg(crimes_prepared, crimes_labels_1hot)",
      "execution_count": null,
      "outputs": []
    },
    {
      "metadata": {
        "_uuid": "76d55bf1a1785f17682cd8d5136d876544fbef43"
      },
      "cell_type": "markdown",
      "source": "### Decission Tree"
    },
    {
      "metadata": {
        "trusted": true,
        "_uuid": "8d8d22c5f4c5a722d851076aa74fbe531ceecd06"
      },
      "cell_type": "code",
      "source": "tree_rmse_scores = decision_t(crimes_prepared, crimes_labels_1hot)",
      "execution_count": null,
      "outputs": []
    },
    {
      "metadata": {
        "trusted": true,
        "_uuid": "f8bbe29b8ba6b505f89a4d6aa2855f0babcaf661"
      },
      "cell_type": "code",
      "source": "# Execute display_scores(scores) function\nprint(\"Linear Regression\")\ndisplay_scores(lin_rmse_scores)\nprint(\"\\nDecision Tree\")\ndisplay_scores(tree_rmse_scores)",
      "execution_count": null,
      "outputs": []
    },
    {
      "metadata": {
        "_uuid": "28bef969a310dd395e651167d9c91fdef999c196"
      },
      "cell_type": "markdown",
      "source": "### Random Forest"
    },
    {
      "metadata": {
        "trusted": true,
        "_uuid": "cf22edfde5a4080bda470492755470c87a9eeea6"
      },
      "cell_type": "code",
      "source": "forest_rmse_scores = random_f(crimes_prepared, crimes_labels_1hot)",
      "execution_count": null,
      "outputs": []
    },
    {
      "metadata": {
        "trusted": true,
        "_uuid": "758d4a3bb39112a39076d6351144ff51fed9c099"
      },
      "cell_type": "code",
      "source": "# Execute display_scores(scores) function\nprint(\"Random forest\")\ndisplay_scores(forest_rmse_scores)",
      "execution_count": null,
      "outputs": []
    },
    {
      "metadata": {
        "_uuid": "45f3a2f9b8858a9c00f68458dbfa6ff8daf08fea"
      },
      "cell_type": "markdown",
      "source": "<a id=\"12\"></a> <br>\n## Fine-tune model"
    },
    {
      "metadata": {
        "_uuid": "ab32896099b2e40023cbbd058e2f5e1928f00356"
      },
      "cell_type": "markdown",
      "source": "### Grid Search"
    },
    {
      "metadata": {
        "trusted": true,
        "_uuid": "7633c626036138a27c1d2b822de49dcee11b75a4"
      },
      "cell_type": "code",
      "source": "grid_search = grid()",
      "execution_count": null,
      "outputs": []
    },
    {
      "metadata": {
        "trusted": true,
        "_uuid": "1b0e3167ec2414bd37b4d8a74f4fae35e3a328e1"
      },
      "cell_type": "code",
      "source": "print(\"Grid search best parameters: \", grid_search.best_params_)\nprint(\"Grid search best estimator: \", grid_search.best_estimator_)",
      "execution_count": null,
      "outputs": []
    },
    {
      "metadata": {
        "trusted": true,
        "_uuid": "9731cddca9acbfce7508168bff6eb8c1115da9f2"
      },
      "cell_type": "code",
      "source": "# Evaluation scores\nprint(\"Evaluation scores\")\ncvres = grid_search.cv_results_\nfor mean_score, params in zip(cvres['mean_test_score'], cvres['params']):\n    print(np.sqrt(-mean_score), params)",
      "execution_count": null,
      "outputs": []
    },
    {
      "metadata": {
        "_uuid": "7e2f051c50afac45640bc4d6b9aba7a267fb8996"
      },
      "cell_type": "markdown",
      "source": "### Randomized Search\n"
    },
    {
      "metadata": {
        "trusted": true,
        "_uuid": "a0e5a9f7c40b397611f332b5f90415b7a5c2ea3b"
      },
      "cell_type": "code",
      "source": "rnd_search = random_search()",
      "execution_count": null,
      "outputs": []
    },
    {
      "metadata": {
        "trusted": true,
        "_uuid": "44028974db6714fd8eb1fc2157b8b36941948e50"
      },
      "cell_type": "code",
      "source": "print(\"Best parameters: {}\".format(rnd_search.best_params_))\nprint(\"Best random search score: {}\".format(np.sqrt(-rnd_search.best_score_)))",
      "execution_count": null,
      "outputs": []
    },
    {
      "metadata": {
        "trusted": true,
        "_uuid": "d725fa218b64a4b4f48da9338724e0c161723779"
      },
      "cell_type": "code",
      "source": "feature_importances = important_feat()\nprint(feature_importances)",
      "execution_count": null,
      "outputs": []
    },
    {
      "metadata": {
        "_uuid": "1ab7e10d82d1bcd072dda78e6c7d7b6e87a105c7"
      },
      "cell_type": "markdown",
      "source": "<a id=\"13\"></a> <br>\n## Evaluation"
    },
    {
      "metadata": {
        "trusted": true,
        "_uuid": "d9a8c787bf3c41b165a5c94562940029aece5b0a"
      },
      "cell_type": "code",
      "source": "final_rmse, final_model, cat_encoder= final_score_eval(column_name)",
      "execution_count": null,
      "outputs": []
    },
    {
      "metadata": {
        "trusted": true,
        "_uuid": "edd6f65086a7ed22269cf50ad57f6cebf17cdd4b"
      },
      "cell_type": "code",
      "source": "NaNs_found = find_nans(sn)\nNaNs_found[:5]",
      "execution_count": null,
      "outputs": []
    },
    {
      "metadata": {
        "trusted": true,
        "_uuid": "b4f349f3827900a9c98ded8d6d9864ff565eb512"
      },
      "cell_type": "code",
      "source": "# Decode values, encoded with OneHoTEncoder\none_hot_decode = cat_encoder.inverse_transform(NaNs_found)\none_hot_decode[:5]",
      "execution_count": null,
      "outputs": []
    },
    {
      "metadata": {
        "trusted": true,
        "_uuid": "ae2e67c57647dc57acba48f1c73e16e07d1c1c1b"
      },
      "cell_type": "code",
      "source": "found_sex = nans_df(column_name)\nfound_sex[:6]",
      "execution_count": null,
      "outputs": []
    },
    {
      "metadata": {
        "trusted": true,
        "_uuid": "94f6c4026499524c198f9b071ef09b54e2074cc6"
      },
      "cell_type": "code",
      "source": "crimes_NYC[column_name].value_counts(dropna = False)\n\nraw_condition = ((crimes_NYC[column_name] != 'F') & \n              (crimes_NYC[column_name] != 'M'))\ncrimes_NYC = make_room(crimes_NYC, raw_condition)\nfill_nans(found_sex, crimes_NYC)",
      "execution_count": null,
      "outputs": []
    },
    {
      "metadata": {
        "trusted": true,
        "_uuid": "f52482b5caf339d40c4e065a31eb2a97f8c28da7"
      },
      "cell_type": "code",
      "source": "crimes_NYC.info()",
      "execution_count": null,
      "outputs": []
    },
    {
      "metadata": {
        "trusted": true,
        "_uuid": "fe97c7bd9a74659aafe3d7bd73886114e9c25206"
      },
      "cell_type": "code",
      "source": "# Write df to csv\ncrimes_NYC.to_csv('crimes_complete.csv', index = False)",
      "execution_count": null,
      "outputs": []
    },
    {
      "metadata": {
        "_uuid": "999590ce97a8b012b9b3c5667054fd7bdcbc08aa"
      },
      "cell_type": "markdown",
      "source": "<a id=\"14\"></a> <br>\n# Visual comparisons"
    },
    {
      "metadata": {
        "_uuid": "729ffed291037c7fc23d6c8cfc83ce3fdc563f7f"
      },
      "cell_type": "markdown",
      "source": "### Prepare data"
    },
    {
      "metadata": {
        "trusted": true,
        "_uuid": "9ae11a77fd7ef64bf6326ba3f62f58ad2df18749"
      },
      "cell_type": "code",
      "source": "# Find rows in main data frame with values filled in selected column\ndef find_rows(df_with_index, selected_df):\n    crimes_filtered = crimes_NYC.iloc[crimes_NYC.index.isin(selected_df.index)]\n    return crimes_filtered",
      "execution_count": null,
      "outputs": []
    },
    {
      "metadata": {
        "trusted": true,
        "_uuid": "e0bac1e4d58c05c2d0c2a3c2206211c5e73f667f"
      },
      "cell_type": "code",
      "source": "# Execute\n# find race\ndf_filled_race = find_rows(crimes_NYC, found_race)\n# find age\ndf_filled_age = find_rows(crimes_NYC, found_age)\n# find sex\ndf_filled_sex = find_rows(crimes_NYC, found_sex)",
      "execution_count": null,
      "outputs": []
    },
    {
      "metadata": {
        "trusted": true,
        "_uuid": "f213e89901e8e2b916f06baaa9b73dd9bf2d9550"
      },
      "cell_type": "code",
      "source": "# Make comparison of values in random values columns and regression based values\ndf_filled_race = df_filled_race[['SUSP_RACE', 'suspector_race_rand']]\ndf_filled_race.reset_index()\ndf_filled_age = df_filled_age[['SUSP_AGE_GROUP', 'suspector_age_rand']]\ndf_filled_age.reset_index()\ndf_filled_sex = df_filled_sex[['SUSP_SEX', 'suspector_sex_rand']]\ndf_filled_sex.reset_index()",
      "execution_count": null,
      "outputs": []
    },
    {
      "metadata": {
        "trusted": true,
        "_uuid": "db4a4220b3b25e12e53d22a3c95a78732255a25e"
      },
      "cell_type": "code",
      "source": "race_reg = df_filled_race['SUSP_RACE'].value_counts(normalize = True) * 100\nrace_rnd = df_filled_race['suspector_race_rand'].value_counts(normalize = True) * 100\nprint(race_reg.index)\nage_reg = df_filled_age['SUSP_AGE_GROUP'].value_counts(normalize = True) * 100\nage_rnd = df_filled_age['suspector_age_rand'].value_counts(normalize = True) * 100\nprint(age_reg.index)\nsex_reg = df_filled_sex['SUSP_SEX'].value_counts(normalize = True) * 100\nsex_rnd = df_filled_sex['suspector_sex_rand'].value_counts(normalize = True) * 100\nprint(sex_reg.index)",
      "execution_count": null,
      "outputs": []
    },
    {
      "metadata": {
        "trusted": true,
        "_uuid": "d24c8bb88e9d9db66be6a6fcd7b0b41251a84a24"
      },
      "cell_type": "code",
      "source": "# Make list from all series to obtain x values in right format (list of lists)\nlista = [race_reg, race_rnd, age_reg, age_rnd, sex_reg, sex_rnd]\n\n# Function takes list of series and returns proper x values for chart\ndef make_list(lista):\n    lista2 = []\n    for item in lista:\n        item = list(item)\n        lista2.append(item)\n    return lista2",
      "execution_count": null,
      "outputs": []
    },
    {
      "metadata": {
        "trusted": true,
        "_uuid": "e8b5b6423b036ffa88b4b752b529ef31744c5dc4"
      },
      "cell_type": "code",
      "source": "# Execute function make_lists\nx = make_list(lista)\nx_race = x[0:2]\nx_sex = x[4:6]\nx_age = x[2:4]\nall_x = [x_race, x_age, x_sex] # just to make easier looping through \nindexes = [race_reg.index, age_reg.index, sex_reg.index]\n#print(x_race)\n#print(x_data[0])\nprint(all_x[0])\nprint(all_x)\nprint(x[0])",
      "execution_count": null,
      "outputs": []
    },
    {
      "metadata": {
        "trusted": true,
        "_uuid": "5926de0f7543eace4bc015be37688f7982636b21"
      },
      "cell_type": "code",
      "source": "# Function to select visible traces at start\ndef vis(value):\n    if value == 0:\n        visible = True\n    else:\n        visible = False\n    return visible",
      "execution_count": null,
      "outputs": []
    },
    {
      "metadata": {
        "trusted": true,
        "_uuid": "c1927a4eae8b3e58c002e81e1e73ce2f94d9873d"
      },
      "cell_type": "code",
      "source": "# Function to group legends - kind of hardcoding \ndef legend_gr(count):\n    # find group\n    if float(count * 0.5).is_integer():\n        legend_group = 'group' + str((int(count * 0.5) + 1))\n    else:\n        legend_group = 'group' + str(int((count + 1) * 0.5))\n    return legend_group",
      "execution_count": null,
      "outputs": []
    },
    {
      "metadata": {
        "trusted": true,
        "_uuid": "537a9e0505a18e4e68a77ccbab81984d7c698347"
      },
      "cell_type": "code",
      "source": "# Function to hide duplicated legends\ndef hide(count):\n    if count % 2 == 0:\n        showlegend = True\n    else:\n        showlegend = False\n    return showlegend",
      "execution_count": null,
      "outputs": []
    },
    {
      "metadata": {
        "trusted": true,
        "_uuid": "48029b2b6563aeda8f57df1e7029e7800cc09ab3"
      },
      "cell_type": "code",
      "source": "# Find percent of found values\n\ncolors = ['#154B68', '#166D88',\n          '#38686A', '#869485',\n          '#BBB49F',  '#B1B6B9']\n\n\nx_data = x\ny_data = ['Values from<br>regression', 'Random values']\n\n\n# traces_race\ntraces = []\ncount = 0\nfor j in range(0, len(all_x)):\n    for i in range(0, len(all_x[j][0])):\n        for xd, yd in zip(all_x[j], y_data):\n            traces.append(go.Bar(\n                x = [xd[i]],\n                y = [yd],\n                text = [\"{0:.2f}\".format(xd[i]) + '%'],\n                hoverinfo = 'text',\n                orientation = 'h',\n                showlegend = hide(count),\n                name = indexes[j][i],\n                visible = vis(j),\n                legendgroup = str(legend_gr(count)),\n                marker = dict(\n                    color = colors[i],\n                    line = dict(\n                        color = '#f8f8f8',\n                        width = 1\n                    )\n                )\n            ))\n            count += 1\n\n\nupdatemenus = list([\n    dict(active=-1,\n         buttons=list([   \n            dict(label = 'race',\n                method = 'update',\n                args = [{'visible': [True, True, True, True, True, True, True, True, True, True, True, True, \n                                     False, False, False, False, False, False, False, False, False, False,\n                                     False, False, False, False]},\n                        {'title': 'Percentage differences between ways of filling in NaN values<br>in suspector race column.'}]),\n            dict(label = 'age',\n                method = 'update',\n                args = [{'visible': [False, False, False, False, False, False, False, False, False, False, False, False,\n                                     True, True, True, True, True, True, True, True, True, True,\n                                     False, False, False, False]},\n                        {'title': 'Percentage differences between ways of filling in NaN values<br>in suspector age group column.'}]),\n            dict(label = 'sex',\n                method = 'update',\n                args = [{'visible': [False, False, False, False, False, False, False, False, False, False, False, False,\n                                     False, False, False, False, False, False, False, False, False, False,\n                                     True, True, True, True]},\n                        {'title': 'Percentage differences between ways of filling in NaN values<br>in suspector sex column.'}]),\n        ]),\n        pad = {'r': 0, 't': 2},\n        x = -0.01,\n        y = 1.17,\n        yanchor = 'top',\n        direction = 'right',\n        bgcolor = '#daecf8',\n        bordercolor = '#daecf8',\n        font = dict(size=11, color='#2f2f30')\n    )\n])\n\nlayout = go.Layout(\n    title = 'Percentage differences between ways of filling in NaN values',\n    xaxis=dict(\n        showgrid = True,\n        showline = True,\n        autorange = True,\n        #rangemode = 'normal',\n        #fixedrange = True,\n        linecolor = '#D7DEE2',\n        showticklabels = True,\n        ticklen = 8,\n        tickwidth = 1,\n        tickcolor='#D7DEE2',\n        ticks='outside',\n        zeroline = False, \n        domain = [0.15, 1],\n        titlefont = dict(\n            family = 'Arial, sans-serif',\n            size = 18,\n            color = '#2f2f30'\n        ),\n    ),\n    yaxis = dict(\n        showgrid = False,\n        showline = False,\n        showticklabels = False,\n        zeroline = False,\n    ),\n    barmode = 'stack',\n    bargap = 0.3,\n    paper_bgcolor = '#EFF7FC',\n    plot_bgcolor = '#EFF7FC',\n    margin = dict(\n        l = 150,\n        r = 185,\n        t = 140,\n        b = 100\n    ),\n    height = 500,\n    width = 1000,\n    updatemenus=updatemenus,\n    legend = dict(\n        font=dict(\n            family = 'Arial, sans-serif',\n            size = 12,\n            color = '#2f2f30'\n        )\n    )\n)\n\nannotations = list([\n    dict(text = 'Select<br>feature', \n         x = -0.2,\n         y = 1.17,\n         yref = 'paper',\n         xref = 'paper',\n         align = 'left',\n         showarrow = False,\n         font = dict(\n             size = 14,\n             color = '#2f2f30'))\n])\n\nfor yd, xd in zip(y_data, x_data):\n    # labeling the y-axis\n    annotations.append(dict(xref = 'paper', yref = 'y',\n                            x = 0.11, y = yd,\n                            xanchor = 'right',\n                            text = str(yd),\n                            font = dict(family = 'Arial, sans-serif', size = 16,\n                                      color = '#2f2f30'),\n                            showarrow = False, align = 'right'))\n\nlayout['annotations'] = annotations\n\nfig = go.Figure(data=traces, layout=layout)\npy.iplot(fig)",
      "execution_count": null,
      "outputs": []
    },
    {
      "metadata": {
        "_uuid": "5ec4087a35f493bbb50b5f6bf73463e49c14709e"
      },
      "cell_type": "markdown",
      "source": "<a id=\"15\"></a> <br>\n# Summary and final toughts"
    },
    {
      "metadata": {
        "_uuid": "a6d901c026d45c892ab9d9021e0bbca5792a5e26"
      },
      "cell_type": "markdown",
      "source": "1. Rising rmse in filled columns, could be caused by many factors like decreasing amount of training data or caused by basing on filled columns, not on raw data.\n2. There are visible differences between columns using random values and regression values. Training sets equal to 50% of all data are too small of course.\n\nThank you for your time.\nIf you know better solutions for this kind of problem don't hesitate to post it. Any comments and are welcome."
    },
    {
      "metadata": {
        "trusted": true,
        "_uuid": "635ce42e5953067e8254746cb4d8b5819d5305ca"
      },
      "cell_type": "code",
      "source": "",
      "execution_count": null,
      "outputs": []
    }
  ],
  "metadata": {
    "kernelspec": {
      "display_name": "Python 3",
      "language": "python",
      "name": "python3"
    },
    "language_info": {
      "name": "python",
      "version": "3.6.6",
      "mimetype": "text/x-python",
      "codemirror_mode": {
        "name": "ipython",
        "version": 3
      },
      "pygments_lexer": "ipython3",
      "nbconvert_exporter": "python",
      "file_extension": ".py"
    }
  },
  "nbformat": 4,
  "nbformat_minor": 1
}